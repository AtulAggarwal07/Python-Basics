{
  "nbformat": 4,
  "nbformat_minor": 0,
  "metadata": {
    "colab": {
      "provenance": []
    },
    "kernelspec": {
      "name": "python3",
      "display_name": "Python 3"
    },
    "language_info": {
      "name": "python"
    }
  },
  "cells": [
    {
      "cell_type": "markdown",
      "source": [
        "# PYTHON BASIC QUESTIONS"
      ],
      "metadata": {
        "id": "8RLeIugez39h"
      }
    },
    {
      "cell_type": "markdown",
      "source": [
        "1.  What is Python, and why is it popular ?\n",
        "- Answer\n",
        " - Python is a high level programming language used to write code in a very simple and easy to understand way.\n",
        " - It is popular due to its versatility , ease of learning , availability of multiple libraries that help biginners and experts to create projects quickly and efficiently.\n",
        "\n",
        "2. What is an interpreter in Python ?\n",
        "- Answer\n",
        " - Python interpreter is is a program that read and execute python code line by line. It convert code into machine language so that computer can understand and run it.\n",
        "\n",
        "3. What are pre-defined keywords in Python ?\n",
        "- Answer\n",
        " - Pre-defined keywords are the words that are already defined in the python interpreter and have specific meaning. They cannot be used as variable name.\n",
        " - Example : if, while, etc.\n",
        "\n",
        "4. Can keywords be used as variable names ?\n",
        "- Answer\n",
        " - No, keywords cannot be used as a variable name.\n",
        "\n",
        "5. What is mutability in Python ?\n",
        "- Answer\n",
        " - Mutablility in python refers to whether an object can be changed after it is created or not.\n",
        " - It is of 2 types:\n",
        "   - Mutable - Such as List, can be modified after being created.\n",
        "   - Immutable- Such as Tuples, Cannot get modified after being created.\n",
        "\n",
        "6.  Why are lists mutable, but tuples are immutable ?\n",
        "- Answer\n",
        " - List are mutable because they are designed in a way that the accept changes after being generated once.\n",
        " - Tuples are immutable because the are designed in such a way that they cannot get modified after they are created once.\n",
        "\n",
        "7. What is the difference between “==” and “is” operators in Python ?\n",
        "- Answer\n",
        " - \"==\" is comparision operator that check if two values are equal.\n",
        " - \"is\" checks if two variable refers to same memory location.\n",
        "\n",
        "8. What are logical operators in Python ?\n",
        "- Answer\n",
        " - Logical Operators in python are used to combine or modify boolean values. Some of the are : and , or , not .\n",
        "   - and : true if both conditions are true.\n",
        "   - or : true if atleast one condition is true.\n",
        "   - not : reverse the value.\n",
        "\n",
        "9. What is type casting in Python ?\n",
        "- Answer\n",
        " - Type casting in python is the process of converting one data type into another.\n",
        "\n",
        "10. What is the difference between implicit and explicit type casting ?\n",
        "- Answer\n",
        " - Implicit type casting happens automatically when Python converts one data type to another without your involvement whereas in explicit type casting user manually convert the data type according to need using functions like int() , str() , float() .\n",
        "\n",
        "11. What is the purpose of conditional statements in Python ?\n",
        "- Answer\n",
        " - Conditional statements in python are used to add different conditions to the code according to requirement. The main types are if , elif and else. They are used to control the flow of program.\n",
        "\n",
        "12. How does the elif statement work ?\n",
        "- Answer\n",
        " - elif statement comes after if statement. If the condition on if statement is false then the condition at elif statement get executed.\n",
        " - Multiple elif statements can be used in a code to check different conditions.\n",
        "\n",
        "13. What is the difference between for and while loops ?\n",
        "- Answer\n",
        " - for loop : Used to iterate when the number of iteration is known. It runs for each item in a sequence.\n",
        " - while loop : Used when the number of iteration is not known.\n",
        " Runs as long as specific condition is true.\n",
        "\n",
        "14. Describe a scenario where a while loop is more suitable than a for loop.\n",
        "- Answer\n",
        " - A while loop is more suitable than a for loop when the number of iterations is not known.\n",
        " - Scenario : Imagine you are playing a game where you continue to ask a user for input until they type \"quit.\"\n",
        " Here, you would use a while loop because you can't predict how many times the user will respond before they decide to stop."
      ],
      "metadata": {
        "id": "9ov4het00DPr"
      }
    },
    {
      "cell_type": "markdown",
      "source": [
        "# Practical Questions"
      ],
      "metadata": {
        "id": "AoT1_81b_QZV"
      }
    },
    {
      "cell_type": "code",
      "source": [
        "# 1. Write a Python program to print \"Hello, World!\".\n",
        "print(\"Hello, World!\")"
      ],
      "metadata": {
        "colab": {
          "base_uri": "https://localhost:8080/"
        },
        "id": "L_ZT5b4o0COc",
        "outputId": "f57b8f87-acaa-436e-d564-4009c8e590b8"
      },
      "execution_count": 1,
      "outputs": [
        {
          "output_type": "stream",
          "name": "stdout",
          "text": [
            "Hello, World!\n"
          ]
        }
      ]
    },
    {
      "cell_type": "code",
      "source": [
        "# 2. Write a Python program that displays your name and age .\n",
        "print(\"Atul Aggarwal\")\n",
        "print(22)"
      ],
      "metadata": {
        "colab": {
          "base_uri": "https://localhost:8080/"
        },
        "id": "d66feN59_gJ6",
        "outputId": "f065213d-9800-4efc-9bc9-d319bd0c6011"
      },
      "execution_count": 6,
      "outputs": [
        {
          "output_type": "stream",
          "name": "stdout",
          "text": [
            "Atul Aggarwal\n",
            "22\n"
          ]
        }
      ]
    },
    {
      "cell_type": "code",
      "source": [
        "# 3. Write code to print all the pre-defined keywords in Python using the keyword library.\n",
        "import keyword\n",
        "print(keyword.kwlist)"
      ],
      "metadata": {
        "colab": {
          "base_uri": "https://localhost:8080/"
        },
        "id": "T5l-bhqY_z1O",
        "outputId": "fa408a52-d1cd-42da-b912-22f2249c62ac"
      },
      "execution_count": 8,
      "outputs": [
        {
          "output_type": "stream",
          "name": "stdout",
          "text": [
            "['False', 'None', 'True', 'and', 'as', 'assert', 'async', 'await', 'break', 'class', 'continue', 'def', 'del', 'elif', 'else', 'except', 'finally', 'for', 'from', 'global', 'if', 'import', 'in', 'is', 'lambda', 'nonlocal', 'not', 'or', 'pass', 'raise', 'return', 'try', 'while', 'with', 'yield']\n"
          ]
        }
      ]
    },
    {
      "cell_type": "code",
      "source": [
        "# 4. Write a program that checks if a given word is a Python keyword.\n",
        "word = input(\"enter word\")\n",
        "if keyword.iskeyword(word):\n",
        "  print(\"word is keyword\")\n",
        "else:\n",
        "  print(\"not keyword\")\n",
        "\n"
      ],
      "metadata": {
        "colab": {
          "base_uri": "https://localhost:8080/"
        },
        "id": "KIl-ujOfArRv",
        "outputId": "ddc95392-7057-4fc0-dde1-0c495f813904"
      },
      "execution_count": 10,
      "outputs": [
        {
          "output_type": "stream",
          "name": "stdout",
          "text": [
            "enter wordelse\n",
            "word is keyword\n"
          ]
        }
      ]
    },
    {
      "cell_type": "code",
      "source": [
        "# 5. Create a list and tuple in Python, and demonstrate how attempting to change an element works differently for each.\n",
        "list=[1,2,3,4]\n",
        "tuple=(1,2,3,4)\n",
        "list[2]=5\n",
        "print(list)\n",
        "tuple[2]=5\n",
        "print(tuple)\n"
      ],
      "metadata": {
        "colab": {
          "base_uri": "https://localhost:8080/",
          "height": 211
        },
        "id": "HR78V2_WBo4i",
        "outputId": "45e04b1b-74a6-40b6-d4d3-420326cb79ad"
      },
      "execution_count": 11,
      "outputs": [
        {
          "output_type": "stream",
          "name": "stdout",
          "text": [
            "[1, 2, 5, 4]\n"
          ]
        },
        {
          "output_type": "error",
          "ename": "TypeError",
          "evalue": "'tuple' object does not support item assignment",
          "traceback": [
            "\u001b[0;31m---------------------------------------------------------------------------\u001b[0m",
            "\u001b[0;31mTypeError\u001b[0m                                 Traceback (most recent call last)",
            "\u001b[0;32m<ipython-input-11-f056cc50f2a3>\u001b[0m in \u001b[0;36m<cell line: 0>\u001b[0;34m()\u001b[0m\n\u001b[1;32m      4\u001b[0m \u001b[0mlist\u001b[0m\u001b[0;34m[\u001b[0m\u001b[0;36m2\u001b[0m\u001b[0;34m]\u001b[0m\u001b[0;34m=\u001b[0m\u001b[0;36m5\u001b[0m\u001b[0;34m\u001b[0m\u001b[0;34m\u001b[0m\u001b[0m\n\u001b[1;32m      5\u001b[0m \u001b[0mprint\u001b[0m\u001b[0;34m(\u001b[0m\u001b[0mlist\u001b[0m\u001b[0;34m)\u001b[0m\u001b[0;34m\u001b[0m\u001b[0;34m\u001b[0m\u001b[0m\n\u001b[0;32m----> 6\u001b[0;31m \u001b[0mtuple\u001b[0m\u001b[0;34m[\u001b[0m\u001b[0;36m2\u001b[0m\u001b[0;34m]\u001b[0m\u001b[0;34m=\u001b[0m\u001b[0;36m5\u001b[0m\u001b[0;34m\u001b[0m\u001b[0;34m\u001b[0m\u001b[0m\n\u001b[0m\u001b[1;32m      7\u001b[0m \u001b[0mprint\u001b[0m\u001b[0;34m(\u001b[0m\u001b[0mtuple\u001b[0m\u001b[0;34m)\u001b[0m\u001b[0;34m\u001b[0m\u001b[0;34m\u001b[0m\u001b[0m\n",
            "\u001b[0;31mTypeError\u001b[0m: 'tuple' object does not support item assignment"
          ]
        }
      ]
    },
    {
      "cell_type": "code",
      "source": [
        "# 6. Write a function to demonstrate the behavior of mutable and immutable argument\n",
        "def modify_list(lst):\n",
        "  lst.append(20)\n",
        "  print(lst)\n",
        "def modify_tuple(tpl):\n",
        "  tpl=tpl+ (5)\n",
        "  print(tpl)\n",
        "\n",
        "lst=[1,2,3]\n",
        "tpl=(1,2,3)\n",
        "\n",
        "modify_list(lst)\n",
        "modify_tuple(tpl)\n"
      ],
      "metadata": {
        "colab": {
          "base_uri": "https://localhost:8080/",
          "height": 315
        },
        "id": "GZigixO6CTdb",
        "outputId": "ba29ba23-320c-4fe8-8293-32d425363d9c"
      },
      "execution_count": 16,
      "outputs": [
        {
          "output_type": "stream",
          "name": "stdout",
          "text": [
            "[1, 2, 3, 20]\n"
          ]
        },
        {
          "output_type": "error",
          "ename": "TypeError",
          "evalue": "can only concatenate tuple (not \"int\") to tuple",
          "traceback": [
            "\u001b[0;31m---------------------------------------------------------------------------\u001b[0m",
            "\u001b[0;31mTypeError\u001b[0m                                 Traceback (most recent call last)",
            "\u001b[0;32m<ipython-input-16-b4aed96366c1>\u001b[0m in \u001b[0;36m<cell line: 0>\u001b[0;34m()\u001b[0m\n\u001b[1;32m     11\u001b[0m \u001b[0;34m\u001b[0m\u001b[0m\n\u001b[1;32m     12\u001b[0m \u001b[0mmodify_list\u001b[0m\u001b[0;34m(\u001b[0m\u001b[0mlst\u001b[0m\u001b[0;34m)\u001b[0m\u001b[0;34m\u001b[0m\u001b[0;34m\u001b[0m\u001b[0m\n\u001b[0;32m---> 13\u001b[0;31m \u001b[0mmodify_tuple\u001b[0m\u001b[0;34m(\u001b[0m\u001b[0mtpl\u001b[0m\u001b[0;34m)\u001b[0m\u001b[0;34m\u001b[0m\u001b[0;34m\u001b[0m\u001b[0m\n\u001b[0m",
            "\u001b[0;32m<ipython-input-16-b4aed96366c1>\u001b[0m in \u001b[0;36mmodify_tuple\u001b[0;34m(tpl)\u001b[0m\n\u001b[1;32m      4\u001b[0m   \u001b[0mprint\u001b[0m\u001b[0;34m(\u001b[0m\u001b[0mlst\u001b[0m\u001b[0;34m)\u001b[0m\u001b[0;34m\u001b[0m\u001b[0;34m\u001b[0m\u001b[0m\n\u001b[1;32m      5\u001b[0m \u001b[0;32mdef\u001b[0m \u001b[0mmodify_tuple\u001b[0m\u001b[0;34m(\u001b[0m\u001b[0mtpl\u001b[0m\u001b[0;34m)\u001b[0m\u001b[0;34m:\u001b[0m\u001b[0;34m\u001b[0m\u001b[0;34m\u001b[0m\u001b[0m\n\u001b[0;32m----> 6\u001b[0;31m   \u001b[0mtpl\u001b[0m\u001b[0;34m=\u001b[0m\u001b[0mtpl\u001b[0m\u001b[0;34m+\u001b[0m \u001b[0;34m(\u001b[0m\u001b[0;36m5\u001b[0m\u001b[0;34m)\u001b[0m\u001b[0;34m\u001b[0m\u001b[0;34m\u001b[0m\u001b[0m\n\u001b[0m\u001b[1;32m      7\u001b[0m   \u001b[0mprint\u001b[0m\u001b[0;34m(\u001b[0m\u001b[0mtpl\u001b[0m\u001b[0;34m)\u001b[0m\u001b[0;34m\u001b[0m\u001b[0;34m\u001b[0m\u001b[0m\n\u001b[1;32m      8\u001b[0m \u001b[0;34m\u001b[0m\u001b[0m\n",
            "\u001b[0;31mTypeError\u001b[0m: can only concatenate tuple (not \"int\") to tuple"
          ]
        }
      ]
    },
    {
      "cell_type": "code",
      "source": [
        "# 7. Write a program that performs basic arithmetic operations on two user-input numbers.\n",
        "n1=int(input(\"enter n1\"))\n",
        "n2=int(input(\"enter n2\"))\n",
        "\n",
        "print(\"add\"+ str(n1+n2))\n",
        "print(\"subtract\"+ str(n1-n2))\n",
        "print(\"multiply\"+ str(n1*n2))\n",
        "print(\"divide\"+ str(n1/n2))"
      ],
      "metadata": {
        "colab": {
          "base_uri": "https://localhost:8080/"
        },
        "id": "qYWnLOVWDci2",
        "outputId": "4cf729a5-6964-4f80-e2a9-6cb3377ec447"
      },
      "execution_count": 17,
      "outputs": [
        {
          "output_type": "stream",
          "name": "stdout",
          "text": [
            "enter n12\n",
            "enter n22\n",
            "add4\n",
            "subtract0\n",
            "multiply4\n",
            "divide1.0\n"
          ]
        }
      ]
    },
    {
      "cell_type": "code",
      "source": [
        "# 8. Write a program to demonstrate the use of logical operators.\n",
        "a=True\n",
        "b=False\n",
        "print(a and b)\n",
        "print(a or b)\n",
        "print(not b)"
      ],
      "metadata": {
        "colab": {
          "base_uri": "https://localhost:8080/"
        },
        "id": "gIybdL6uE0z1",
        "outputId": "1e8f057d-798d-4648-aba1-84939a70419f"
      },
      "execution_count": 19,
      "outputs": [
        {
          "output_type": "stream",
          "name": "stdout",
          "text": [
            "False\n",
            "True\n",
            "True\n"
          ]
        }
      ]
    },
    {
      "cell_type": "code",
      "source": [
        "# 9. Write a Python program to convert user input from string to integer, float, and boolean types.\n",
        "n=input(\"enter value\")\n",
        "n_int=int(n)\n",
        "n_str=str(n)\n",
        "n_float=float(n)\n",
        "n_bool=bool(n)\n",
        "print(n_int,n_str,n_float,n_bool)"
      ],
      "metadata": {
        "colab": {
          "base_uri": "https://localhost:8080/"
        },
        "id": "OyjFO8jzFIWJ",
        "outputId": "2ad1b784-f39e-4f5a-ffa5-0d3641d31891"
      },
      "execution_count": 21,
      "outputs": [
        {
          "output_type": "stream",
          "name": "stdout",
          "text": [
            "enter value12\n",
            "12 12 12.0 True\n"
          ]
        }
      ]
    },
    {
      "cell_type": "code",
      "source": [
        "# 10. Write code to demonstrate type casting with list elements.\n",
        "l=[1,2,3,4]\n",
        "l_str=[str(i) for i in l]\n",
        "print(l_str)\n"
      ],
      "metadata": {
        "colab": {
          "base_uri": "https://localhost:8080/"
        },
        "id": "1y57_5n0FwZs",
        "outputId": "439fbc45-ce5b-473e-ead0-a1f4c7573f62"
      },
      "execution_count": 23,
      "outputs": [
        {
          "output_type": "stream",
          "name": "stdout",
          "text": [
            "['1', '2', '3', '4']\n"
          ]
        }
      ]
    },
    {
      "cell_type": "code",
      "source": [
        "# 11. Write a program that checks if a number is positive, negative, or zero.\n",
        "n=int(input(\"enter\"))\n",
        "if(n>0):\n",
        "  print(\"positive\")\n",
        "elif(n==0):\n",
        "  print(\"zero\")\n",
        "else:\n",
        "  print(\"negative\")"
      ],
      "metadata": {
        "colab": {
          "base_uri": "https://localhost:8080/"
        },
        "id": "0il988bKHCi4",
        "outputId": "f53a1106-96b7-41dc-8d8d-acd3f0485a13"
      },
      "execution_count": 26,
      "outputs": [
        {
          "output_type": "stream",
          "name": "stdout",
          "text": [
            "enter2\n",
            "positive\n"
          ]
        }
      ]
    },
    {
      "cell_type": "code",
      "source": [
        "# 12. Write a for loop to print numbers from 1 to 10.\n",
        "for i in range(1,11):\n",
        "  print(i)"
      ],
      "metadata": {
        "colab": {
          "base_uri": "https://localhost:8080/"
        },
        "id": "MnDBeilcHtSt",
        "outputId": "14d55cd1-7faa-4394-a9cd-a2c1dee7edd8"
      },
      "execution_count": 27,
      "outputs": [
        {
          "output_type": "stream",
          "name": "stdout",
          "text": [
            "1\n",
            "2\n",
            "3\n",
            "4\n",
            "5\n",
            "6\n",
            "7\n",
            "8\n",
            "9\n",
            "10\n"
          ]
        }
      ]
    },
    {
      "cell_type": "code",
      "source": [
        "# 13. Write a Python program to find the sum of all even numbers between 1 and 50\n",
        "s=0\n",
        "for i in range(1,51):\n",
        "  if(i%2==0):\n",
        "    s+=i\n",
        "print(s)\n",
        "\n"
      ],
      "metadata": {
        "colab": {
          "base_uri": "https://localhost:8080/"
        },
        "id": "-h9XYSH8H9c0",
        "outputId": "622b69fb-c5c8-44c0-92b5-a8894fd8508a"
      },
      "execution_count": 31,
      "outputs": [
        {
          "output_type": "stream",
          "name": "stdout",
          "text": [
            "650\n"
          ]
        }
      ]
    },
    {
      "cell_type": "code",
      "source": [
        "# 14. Write a program to reverse a string using a while loop.\n",
        "str=input(\"Enter String\")\n",
        "rev=\"\"\n",
        "i=len(str)-1\n",
        "while(i>=0):\n",
        "  rev+=str[i]\n",
        "  i-=1\n",
        "print(rev)\n"
      ],
      "metadata": {
        "colab": {
          "base_uri": "https://localhost:8080/"
        },
        "id": "GJf49rjWIgCQ",
        "outputId": "dc045128-77f1-4c2a-ad7d-d08efb9bcc57"
      },
      "execution_count": 38,
      "outputs": [
        {
          "output_type": "stream",
          "name": "stdout",
          "text": [
            "Enter Stringhello world\n",
            "dlrow olleh\n"
          ]
        }
      ]
    },
    {
      "cell_type": "code",
      "source": [
        "# 15. Write a Python program to calculate the factorial of a number provided by the user using a while loop\n",
        "n= int(input(\"enter number\"))\n",
        "f=1\n",
        "i=1\n",
        "while(i<=n):\n",
        "  f*=i\n",
        "  i+=1\n",
        "print(f)\n",
        "\n",
        "\n",
        "\n"
      ],
      "metadata": {
        "colab": {
          "base_uri": "https://localhost:8080/"
        },
        "id": "hJH7uhdjKM6C",
        "outputId": "3fccbab3-eb7d-4631-bde7-66e577efbe1a"
      },
      "execution_count": 43,
      "outputs": [
        {
          "output_type": "stream",
          "name": "stdout",
          "text": [
            "enter number5\n",
            "120\n"
          ]
        }
      ]
    }
  ]
}